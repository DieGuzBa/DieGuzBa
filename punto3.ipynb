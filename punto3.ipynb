{
  "nbformat": 4,
  "nbformat_minor": 0,
  "metadata": {
    "colab": {
      "name": "punto3.ipynb",
      "provenance": [],
      "toc_visible": true,
      "include_colab_link": true
    },
    "kernelspec": {
      "name": "python3",
      "display_name": "Python 3"
    }
  },
  "cells": [
    {
      "cell_type": "markdown",
      "metadata": {
        "id": "view-in-github",
        "colab_type": "text"
      },
      "source": [
        "<a href=\"https://colab.research.google.com/github/DieGuzBa/proyectos-python/blob/main/punto3.ipynb\" target=\"_parent\"><img src=\"https://colab.research.google.com/assets/colab-badge.svg\" alt=\"Open In Colab\"/></a>"
      ]
    },
    {
      "cell_type": "code",
      "metadata": {
        "id": "jbcnlYTqcvIu",
        "colab": {
          "base_uri": "https://localhost:8080/"
        },
        "outputId": "0fd83258-d7d5-477a-ab28-286587bae372"
      },
      "source": [
        "!pip install -q apyori\n",
        "\n",
        "# -*- coding: utf-8 -*-\n",
        "\"\"\"\n",
        "Created on Fri Jul  6 22:34:58 2018\n",
        "\n",
        "pip install apyori\n",
        "https://chih-ling-hsu.github.io/2018/01/01/association-rule-mining#dataset\n",
        "\"\"\"\n",
        "\n",
        "from apyori import apriori\n",
        "transactions = [\n",
        "       [\"A\",\"B\",\"C\"],\n",
        "       [\"A\",\"C\",\"D\",\"E\"],\n",
        "       [\"A\",\"B\",\"D\"],\n",
        "       [\"A\",\"C\",\"F\"],\n",
        "       [\"A\",\"B\"],\n",
        "       [\"A\",\"E\",\"F\"],\n",
        "       [\"A\",\"B\",\"D\",\"E\",\"F\"],\n",
        "       [\"A\",\"F\"],\n",
        "       [\"B\",\"D\",\"E\"],\n",
        "       [\"B\",\"D\",\"E\",\"F\"],\n",
        "       [\"B\",\"C\",\"D\",\"E\"],\n",
        "       [\"C\",\"D\",\"E\"]]\n",
        "\n",
        "rules  = apriori(transactions, min_support = 0.375, min_confidence = 0.375,min_length=2)\n",
        "# Visualising the results\n",
        "results = list(rules)\n",
        "for result in results:\n",
        "     for ordered_statistics in result.ordered_statistics:\n",
        "        if list(ordered_statistics.items_base)!=[]:\n",
        "            print(\"support\",result.support )\n",
        "            print( list(ordered_statistics.items_base),\"->\",list(ordered_statistics.items_add),ordered_statistics.confidence)"
      ],
      "execution_count": null,
      "outputs": [
        {
          "output_type": "stream",
          "name": "stdout",
          "text": [
            "  Building wheel for apyori (setup.py) ... \u001b[?25l\u001b[?25hdone\n",
            "support 0.4166666666666667\n",
            "['B'] -> ['D'] 0.7142857142857143\n",
            "support 0.4166666666666667\n",
            "['D'] -> ['B'] 0.7142857142857143\n",
            "support 0.5\n",
            "['D'] -> ['E'] 0.8571428571428571\n",
            "support 0.5\n",
            "['E'] -> ['D'] 0.8571428571428571\n"
          ]
        }
      ]
    }
  ]
}